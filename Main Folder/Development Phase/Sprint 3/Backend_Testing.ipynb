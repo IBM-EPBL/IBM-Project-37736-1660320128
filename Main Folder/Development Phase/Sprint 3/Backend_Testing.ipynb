{
  "nbformat": 4,
  "nbformat_minor": 0,
  "metadata": {
    "colab": {
      "provenance": [],
      "collapsed_sections": [
        "QtGz79qHXo-t",
        "rQ7RUoHRWhei",
        "xZ2SgBrcWpyV",
        "PAnEel6GXa_t",
        "AoOZhHRQYCRU",
        "fdj8G-jOZGdH",
        "yx6PfjNaZ9Ot",
        "ChkXVMV0a0ld",
        "1PaZlpICb2Z4",
        "038BK0bLcjKV",
        "PQ__ffIfddh6",
        "mJEzHMRCgQ5o",
        "ndR20eRmg4oe",
        "EwDlQ_9glpPH",
        "Mgkj9eXhn7Zv"
      ]
    },
    "kernelspec": {
      "name": "python3",
      "display_name": "Python 3"
    },
    "language_info": {
      "name": "python"
    }
  },
  "cells": [
    {
      "cell_type": "markdown",
      "source": [
        "#Initilization"
      ],
      "metadata": {
        "id": "QtGz79qHXo-t"
      }
    },
    {
      "cell_type": "code",
      "source": [
        "import os\n",
        "import pandas as pd\n",
        "import numpy as np\n",
        "import matplotlib.pyplot as plt\n",
        "from xgboost import XGBRegressor\n",
        "from sklearn.ensemble import RandomForestRegressor\n",
        "from sklearn.linear_model import LinearRegression\n",
        "from sklearn.metrics import mean_absolute_error, mean_squared_error, r2_score\n",
        "from sklearn.preprocessing import MinMaxScaler\n",
        "from tensorflow.keras.models import Sequential\n",
        "from tensorflow.keras.layers import Dense, LSTM\n",
        "from tensorflow.keras.callbacks import EarlyStopping, ModelCheckpoint\n",
        "import plotly.express as px\n",
        "import plotly"
      ],
      "metadata": {
        "id": "EiwkD_N_UKit"
      },
      "execution_count": 6,
      "outputs": []
    },
    {
      "cell_type": "markdown",
      "source": [
        "# Backend Testing"
      ],
      "metadata": {
        "id": "rQ7RUoHRWhei"
      }
    },
    {
      "cell_type": "code",
      "source": [
        "store_sales = pd.read_csv(\"mock_kaggle.csv\")\n",
        "if True:\n",
        "  date = 'data'\n",
        "  sales = 'venda'\n",
        "  sales_diff = 'sales_diff'\n",
        "  LP = 'venda'\n",
        "  img = 'Predict.jpg'\n",
        "  drpdata = ['estoque', 'preco']\n",
        "  pred = 'Prediction'\n",
        "  predtrue = 'Original'\n",
        "  predfalse = 'Prediction'\n",
        "  #Dropping store and item columns\n",
        "  store_sales = store_sales.drop(drpdata, axis=1)\n",
        "  #Coverting 'date' string to 'Date' type\n",
        "  store_sales[date] = pd.to_datetime(store_sales[date])\n",
        "  #Sumation of sales in months\n",
        "  store_sales[date] = store_sales[date].dt.to_period(\"M\")\n",
        "  monthly_sales = store_sales.groupby(date).sum().reset_index()\n",
        "  #Converting resulting 'date' type to 'timestamp' datatype\n",
        "  monthly_sales[date] = monthly_sales[date].dt.to_timestamp()\n",
        "  # Visualization\n",
        "  #plt.figure(figsize=(15,5))\n",
        "  #plt.plot(monthly_sales[date], monthly_sales[sales])\n",
        "  #plt.xlabel(\"Date\")\n",
        "  #plt.ylabel(\"Sales\")\n",
        "  #plt.title(\"RESULT\")\n",
        "  #plt.show()\n",
        "  # Finding Difference of sales month\n",
        "  monthly_sales[sales_diff] = monthly_sales[sales].diff()\n",
        "  monthly_sales = monthly_sales.dropna()\n",
        "  # Dropping 'sales' and 'date'\n",
        "  supervised_data = monthly_sales.drop([date, sales], axis=1)\n",
        "  # Preparing Supervised Data\n",
        "  for i in range(1,13):\n",
        "    col_name = 'month_' + str(i)\n",
        "    supervised_data[col_name] = supervised_data[sales_diff].shift(i)\n",
        "  supervised_data = supervised_data.dropna().reset_index(drop=True)\n",
        "  ## Split data into train and test\n",
        "  train_data = supervised_data[:-12]\n",
        "  test_data = supervised_data[-12:]\n",
        "  #print(\"Train Data Shape: \", train_data.shape)\n",
        "  #print(\"Test Data Shape: \", test_data.shape)\n",
        "  scaler = MinMaxScaler(feature_range=(-1,1))\n",
        "  scaler.fit(train_data)\n",
        "  train_data = scaler.transform(train_data)\n",
        "  test_data = scaler.transform(test_data)\n",
        "  x_train, y_train = train_data[:,1:], train_data[:,0:1]\n",
        "  x_test, y_test = test_data[:,1:], test_data[:,0:1]\n",
        "  y_train = y_train.ravel()\n",
        "  y_test = y_test.ravel()\n",
        "  #print(\"X_train Shape: \", x_train.shape)\n",
        "  #print(\"Y_train Shape: \", y_train.shape)\n",
        "  #print(\"X_test Shape: \", x_test.shape)\n",
        "  #print(\"Y_test Shape: \", y_test.shape)\n",
        "  # Make Prediction data frame to merge the predicted sales of all trained algs\n",
        "  sales_dates = monthly_sales[date][-12:].reset_index(drop=True)\n",
        "  predict_df = pd.DataFrame(sales_dates)\n",
        "  act_sales = monthly_sales[sales][-13:].to_list()\n",
        "  #print(act_sales)\n",
        "  # To create the linear regression model, and predicted output\n",
        "  lr_model = LinearRegression()\n",
        "  lr_model.fit(x_train, y_train)\n",
        "  lr_pre = lr_model.predict(x_test)\n",
        "  lr_pre = lr_pre.reshape(-1,1)\n",
        "  ###This is a set matrix - contains the input features of the test data, and also the predicted data output\n",
        "  lr_pre_test_set = np.concatenate([lr_pre, x_test], axis=1)\n",
        "  lr_pre_test_set = scaler.inverse_transform(lr_pre_test_set)\n",
        "  result_list = []\n",
        "  for index in range(0, len(lr_pre_test_set)):\n",
        "    result_list.append(lr_pre_test_set[index][0] + act_sales[index])\n",
        "  lr_pre_series = pd.Series(result_list, name=LP)\n",
        "  predict_df = predict_df.merge(lr_pre_series, left_index=True, right_index=True)\n",
        "  for i in predict_df[date]:\n",
        "    predict_df[pred] = predtrue\n",
        "\n",
        "  for i in monthly_sales[date]:\n",
        "    monthly_sales[pred] = predfalse\n",
        "\n",
        "  ############ This part need to learn, i think ###############\n",
        "  lr_mse = np.sqrt(mean_squared_error(predict_df[LP], monthly_sales[sales][-12:]))\n",
        "  lr_mae = mean_absolute_error(predict_df[LP], monthly_sales[sales][-12:])\n",
        "  lr_r2 = r2_score = (predict_df[LP], monthly_sales[sales][-12:])\n",
        "  monthly_sales[sales] = monthly_sales[sales][:-12]\n",
        "  #print(\"Linear Regression MSE: \", lr_mse)\n",
        "  #print(\"Linear Regression MAE: \", lr_mae)\n",
        "  #print(\"Linear Regression R2: \", lr_r2)\n",
        "  #plt.figure(figsize=(15,5))\n",
        "  ###Actual Sales\n",
        "  #plt.plot(monthly_sales[date], monthly_sales[sales])\n",
        "  ###Predicted Sales\n",
        "  #plt.plot(predict_df[date], predict_df[LP])\n",
        "  #plt.xlabel(\"Date\")\n",
        "  #plt.ylabel(\"Sales\")\n",
        "  #plt.legend(['Actual sales', 'Predicted Sales'])\n",
        "  #plt.savefig(img)\n",
        "  result = pd.concat([monthly_sales.drop(sales_diff, axis=1),predict_df]).dropna()## find solution\n",
        "  fig = px.scatter(result, x=date, y=sales, color=pred, trendline=\"lowess\", trendline_options=dict(frac=0.1))\n",
        "  fig.show()\n",
        "  plotly.offline.plot(fig, filename='lifeExp.html')\n",
        "  result.info()"
      ],
      "metadata": {
        "id": "0LR51jpEWl60",
        "colab": {
          "base_uri": "https://localhost:8080/",
          "height": 716
        },
        "outputId": "0a8a23e2-a7a2-4cd7-f3eb-6802caf2bc7a"
      },
      "execution_count": 7,
      "outputs": [
        {
          "output_type": "display_data",
          "data": {
            "text/html": [
              "<html>\n",
              "<head><meta charset=\"utf-8\" /></head>\n",
              "<body>\n",
              "    <div>            <script src=\"https://cdnjs.cloudflare.com/ajax/libs/mathjax/2.7.5/MathJax.js?config=TeX-AMS-MML_SVG\"></script><script type=\"text/javascript\">if (window.MathJax) {MathJax.Hub.Config({SVG: {font: \"STIX-Web\"}});}</script>                <script type=\"text/javascript\">window.PlotlyConfig = {MathJaxConfig: 'local'};</script>\n",
              "        <script src=\"https://cdn.plot.ly/plotly-2.8.3.min.js\"></script>                <div id=\"52deb54a-0d2e-4a20-8686-de4682960a60\" class=\"plotly-graph-div\" style=\"height:525px; width:100%;\"></div>            <script type=\"text/javascript\">                                    window.PLOTLYENV=window.PLOTLYENV || {};                                    if (document.getElementById(\"52deb54a-0d2e-4a20-8686-de4682960a60\")) {                    Plotly.newPlot(                        \"52deb54a-0d2e-4a20-8686-de4682960a60\",                        [{\"hovertemplate\":\"Prediction=Prediction<br>data=%{x}<br>venda=%{y}<extra></extra>\",\"legendgroup\":\"Prediction\",\"marker\":{\"color\":\"#636efa\",\"symbol\":\"circle\"},\"mode\":\"markers\",\"name\":\"Prediction\",\"orientation\":\"v\",\"showlegend\":true,\"x\":[\"2014-02-01T00:00:00\",\"2014-03-01T00:00:00\",\"2014-04-01T00:00:00\",\"2014-05-01T00:00:00\",\"2014-06-01T00:00:00\",\"2014-07-01T00:00:00\",\"2014-08-01T00:00:00\",\"2014-09-01T00:00:00\",\"2014-10-01T00:00:00\",\"2014-11-01T00:00:00\",\"2014-12-01T00:00:00\",\"2015-01-01T00:00:00\",\"2015-02-01T00:00:00\",\"2015-03-01T00:00:00\",\"2015-04-01T00:00:00\",\"2015-05-01T00:00:00\",\"2015-06-01T00:00:00\",\"2015-07-01T00:00:00\"],\"xaxis\":\"x\",\"y\":[2018.0,2137.0,1990.0,2493.0,2629.0,1131.0,1452.0,2185.0,2765.0,1462.0,1010.0,2465.0,1918.0,3379.0,2123.0,647.0,2880.0,3104.0],\"yaxis\":\"y\",\"type\":\"scatter\"},{\"hovertemplate\":\"<b>LOWESS trendline</b><br><br>Prediction=Prediction<br>data=%{x}<br>venda=%{y} <b>(trend)</b><extra></extra>\",\"legendgroup\":\"Prediction\",\"marker\":{\"color\":\"#636efa\",\"symbol\":\"circle\"},\"mode\":\"lines\",\"name\":\"Prediction\",\"showlegend\":false,\"x\":[\"2014-02-01T00:00:00\",\"2014-03-01T00:00:00\",\"2014-04-01T00:00:00\",\"2014-05-01T00:00:00\",\"2014-06-01T00:00:00\",\"2014-07-01T00:00:00\",\"2014-08-01T00:00:00\",\"2014-09-01T00:00:00\",\"2014-10-01T00:00:00\",\"2014-11-01T00:00:00\",\"2014-12-01T00:00:00\",\"2015-01-01T00:00:00\",\"2015-02-01T00:00:00\",\"2015-03-01T00:00:00\",\"2015-04-01T00:00:00\",\"2015-05-01T00:00:00\",\"2015-06-01T00:00:00\",\"2015-07-01T00:00:00\"],\"xaxis\":\"x\",\"y\":[2018.0,2137.0,1990.0,2493.0,2629.0,1131.0,1452.0,2185.0,2765.0,1462.0,1010.0,2465.0,1918.0,3379.0,2123.0,647.0,2880.0,3104.0],\"yaxis\":\"y\",\"type\":\"scatter\"},{\"hovertemplate\":\"Prediction=Original<br>data=%{x}<br>venda=%{y}<extra></extra>\",\"legendgroup\":\"Original\",\"marker\":{\"color\":\"#EF553B\",\"symbol\":\"circle\"},\"mode\":\"markers\",\"name\":\"Original\",\"orientation\":\"v\",\"showlegend\":true,\"x\":[\"2015-08-01T00:00:00\",\"2015-09-01T00:00:00\",\"2015-10-01T00:00:00\",\"2015-11-01T00:00:00\",\"2015-12-01T00:00:00\",\"2016-01-01T00:00:00\",\"2016-02-01T00:00:00\",\"2016-03-01T00:00:00\",\"2016-04-01T00:00:00\",\"2016-05-01T00:00:00\",\"2016-06-01T00:00:00\",\"2016-07-01T00:00:00\"],\"xaxis\":\"x\",\"y\":[2573.2537806381374,886.1845615906805,3325.3826048867822,3528.000161188804,4130.363040744325,4981.601890326855,-892.5993841128893,4961.428227039984,4134.260472392394,1563.0342937672772,3347.1555303991267,8156.896700116624],\"yaxis\":\"y\",\"type\":\"scatter\"},{\"hovertemplate\":\"<b>LOWESS trendline</b><br><br>Prediction=Original<br>data=%{x}<br>venda=%{y} <b>(trend)</b><extra></extra>\",\"legendgroup\":\"Original\",\"marker\":{\"color\":\"#EF553B\",\"symbol\":\"circle\"},\"mode\":\"lines\",\"name\":\"Original\",\"showlegend\":false,\"x\":[\"2015-08-01T00:00:00\",\"2015-09-01T00:00:00\",\"2015-10-01T00:00:00\",\"2015-11-01T00:00:00\",\"2015-12-01T00:00:00\",\"2016-01-01T00:00:00\",\"2016-02-01T00:00:00\",\"2016-03-01T00:00:00\",\"2016-04-01T00:00:00\",\"2016-05-01T00:00:00\",\"2016-06-01T00:00:00\",\"2016-07-01T00:00:00\"],\"xaxis\":\"x\",\"y\":[2573.2537806381374,886.1845615906805,3325.3826048867822,3528.000161188804,4130.363040744325,4981.601890326855,-892.5993841128893,4961.428227039984,4134.260472392394,1563.0342937672772,3347.1555303991267,8156.896700116624],\"yaxis\":\"y\",\"type\":\"scatter\"}],                        {\"template\":{\"data\":{\"bar\":[{\"error_x\":{\"color\":\"#2a3f5f\"},\"error_y\":{\"color\":\"#2a3f5f\"},\"marker\":{\"line\":{\"color\":\"#E5ECF6\",\"width\":0.5},\"pattern\":{\"fillmode\":\"overlay\",\"size\":10,\"solidity\":0.2}},\"type\":\"bar\"}],\"barpolar\":[{\"marker\":{\"line\":{\"color\":\"#E5ECF6\",\"width\":0.5},\"pattern\":{\"fillmode\":\"overlay\",\"size\":10,\"solidity\":0.2}},\"type\":\"barpolar\"}],\"carpet\":[{\"aaxis\":{\"endlinecolor\":\"#2a3f5f\",\"gridcolor\":\"white\",\"linecolor\":\"white\",\"minorgridcolor\":\"white\",\"startlinecolor\":\"#2a3f5f\"},\"baxis\":{\"endlinecolor\":\"#2a3f5f\",\"gridcolor\":\"white\",\"linecolor\":\"white\",\"minorgridcolor\":\"white\",\"startlinecolor\":\"#2a3f5f\"},\"type\":\"carpet\"}],\"choropleth\":[{\"colorbar\":{\"outlinewidth\":0,\"ticks\":\"\"},\"type\":\"choropleth\"}],\"contour\":[{\"colorbar\":{\"outlinewidth\":0,\"ticks\":\"\"},\"colorscale\":[[0.0,\"#0d0887\"],[0.1111111111111111,\"#46039f\"],[0.2222222222222222,\"#7201a8\"],[0.3333333333333333,\"#9c179e\"],[0.4444444444444444,\"#bd3786\"],[0.5555555555555556,\"#d8576b\"],[0.6666666666666666,\"#ed7953\"],[0.7777777777777778,\"#fb9f3a\"],[0.8888888888888888,\"#fdca26\"],[1.0,\"#f0f921\"]],\"type\":\"contour\"}],\"contourcarpet\":[{\"colorbar\":{\"outlinewidth\":0,\"ticks\":\"\"},\"type\":\"contourcarpet\"}],\"heatmap\":[{\"colorbar\":{\"outlinewidth\":0,\"ticks\":\"\"},\"colorscale\":[[0.0,\"#0d0887\"],[0.1111111111111111,\"#46039f\"],[0.2222222222222222,\"#7201a8\"],[0.3333333333333333,\"#9c179e\"],[0.4444444444444444,\"#bd3786\"],[0.5555555555555556,\"#d8576b\"],[0.6666666666666666,\"#ed7953\"],[0.7777777777777778,\"#fb9f3a\"],[0.8888888888888888,\"#fdca26\"],[1.0,\"#f0f921\"]],\"type\":\"heatmap\"}],\"heatmapgl\":[{\"colorbar\":{\"outlinewidth\":0,\"ticks\":\"\"},\"colorscale\":[[0.0,\"#0d0887\"],[0.1111111111111111,\"#46039f\"],[0.2222222222222222,\"#7201a8\"],[0.3333333333333333,\"#9c179e\"],[0.4444444444444444,\"#bd3786\"],[0.5555555555555556,\"#d8576b\"],[0.6666666666666666,\"#ed7953\"],[0.7777777777777778,\"#fb9f3a\"],[0.8888888888888888,\"#fdca26\"],[1.0,\"#f0f921\"]],\"type\":\"heatmapgl\"}],\"histogram\":[{\"marker\":{\"pattern\":{\"fillmode\":\"overlay\",\"size\":10,\"solidity\":0.2}},\"type\":\"histogram\"}],\"histogram2d\":[{\"colorbar\":{\"outlinewidth\":0,\"ticks\":\"\"},\"colorscale\":[[0.0,\"#0d0887\"],[0.1111111111111111,\"#46039f\"],[0.2222222222222222,\"#7201a8\"],[0.3333333333333333,\"#9c179e\"],[0.4444444444444444,\"#bd3786\"],[0.5555555555555556,\"#d8576b\"],[0.6666666666666666,\"#ed7953\"],[0.7777777777777778,\"#fb9f3a\"],[0.8888888888888888,\"#fdca26\"],[1.0,\"#f0f921\"]],\"type\":\"histogram2d\"}],\"histogram2dcontour\":[{\"colorbar\":{\"outlinewidth\":0,\"ticks\":\"\"},\"colorscale\":[[0.0,\"#0d0887\"],[0.1111111111111111,\"#46039f\"],[0.2222222222222222,\"#7201a8\"],[0.3333333333333333,\"#9c179e\"],[0.4444444444444444,\"#bd3786\"],[0.5555555555555556,\"#d8576b\"],[0.6666666666666666,\"#ed7953\"],[0.7777777777777778,\"#fb9f3a\"],[0.8888888888888888,\"#fdca26\"],[1.0,\"#f0f921\"]],\"type\":\"histogram2dcontour\"}],\"mesh3d\":[{\"colorbar\":{\"outlinewidth\":0,\"ticks\":\"\"},\"type\":\"mesh3d\"}],\"parcoords\":[{\"line\":{\"colorbar\":{\"outlinewidth\":0,\"ticks\":\"\"}},\"type\":\"parcoords\"}],\"pie\":[{\"automargin\":true,\"type\":\"pie\"}],\"scatter\":[{\"marker\":{\"colorbar\":{\"outlinewidth\":0,\"ticks\":\"\"}},\"type\":\"scatter\"}],\"scatter3d\":[{\"line\":{\"colorbar\":{\"outlinewidth\":0,\"ticks\":\"\"}},\"marker\":{\"colorbar\":{\"outlinewidth\":0,\"ticks\":\"\"}},\"type\":\"scatter3d\"}],\"scattercarpet\":[{\"marker\":{\"colorbar\":{\"outlinewidth\":0,\"ticks\":\"\"}},\"type\":\"scattercarpet\"}],\"scattergeo\":[{\"marker\":{\"colorbar\":{\"outlinewidth\":0,\"ticks\":\"\"}},\"type\":\"scattergeo\"}],\"scattergl\":[{\"marker\":{\"colorbar\":{\"outlinewidth\":0,\"ticks\":\"\"}},\"type\":\"scattergl\"}],\"scattermapbox\":[{\"marker\":{\"colorbar\":{\"outlinewidth\":0,\"ticks\":\"\"}},\"type\":\"scattermapbox\"}],\"scatterpolar\":[{\"marker\":{\"colorbar\":{\"outlinewidth\":0,\"ticks\":\"\"}},\"type\":\"scatterpolar\"}],\"scatterpolargl\":[{\"marker\":{\"colorbar\":{\"outlinewidth\":0,\"ticks\":\"\"}},\"type\":\"scatterpolargl\"}],\"scatterternary\":[{\"marker\":{\"colorbar\":{\"outlinewidth\":0,\"ticks\":\"\"}},\"type\":\"scatterternary\"}],\"surface\":[{\"colorbar\":{\"outlinewidth\":0,\"ticks\":\"\"},\"colorscale\":[[0.0,\"#0d0887\"],[0.1111111111111111,\"#46039f\"],[0.2222222222222222,\"#7201a8\"],[0.3333333333333333,\"#9c179e\"],[0.4444444444444444,\"#bd3786\"],[0.5555555555555556,\"#d8576b\"],[0.6666666666666666,\"#ed7953\"],[0.7777777777777778,\"#fb9f3a\"],[0.8888888888888888,\"#fdca26\"],[1.0,\"#f0f921\"]],\"type\":\"surface\"}],\"table\":[{\"cells\":{\"fill\":{\"color\":\"#EBF0F8\"},\"line\":{\"color\":\"white\"}},\"header\":{\"fill\":{\"color\":\"#C8D4E3\"},\"line\":{\"color\":\"white\"}},\"type\":\"table\"}]},\"layout\":{\"annotationdefaults\":{\"arrowcolor\":\"#2a3f5f\",\"arrowhead\":0,\"arrowwidth\":1},\"autotypenumbers\":\"strict\",\"coloraxis\":{\"colorbar\":{\"outlinewidth\":0,\"ticks\":\"\"}},\"colorscale\":{\"diverging\":[[0,\"#8e0152\"],[0.1,\"#c51b7d\"],[0.2,\"#de77ae\"],[0.3,\"#f1b6da\"],[0.4,\"#fde0ef\"],[0.5,\"#f7f7f7\"],[0.6,\"#e6f5d0\"],[0.7,\"#b8e186\"],[0.8,\"#7fbc41\"],[0.9,\"#4d9221\"],[1,\"#276419\"]],\"sequential\":[[0.0,\"#0d0887\"],[0.1111111111111111,\"#46039f\"],[0.2222222222222222,\"#7201a8\"],[0.3333333333333333,\"#9c179e\"],[0.4444444444444444,\"#bd3786\"],[0.5555555555555556,\"#d8576b\"],[0.6666666666666666,\"#ed7953\"],[0.7777777777777778,\"#fb9f3a\"],[0.8888888888888888,\"#fdca26\"],[1.0,\"#f0f921\"]],\"sequentialminus\":[[0.0,\"#0d0887\"],[0.1111111111111111,\"#46039f\"],[0.2222222222222222,\"#7201a8\"],[0.3333333333333333,\"#9c179e\"],[0.4444444444444444,\"#bd3786\"],[0.5555555555555556,\"#d8576b\"],[0.6666666666666666,\"#ed7953\"],[0.7777777777777778,\"#fb9f3a\"],[0.8888888888888888,\"#fdca26\"],[1.0,\"#f0f921\"]]},\"colorway\":[\"#636efa\",\"#EF553B\",\"#00cc96\",\"#ab63fa\",\"#FFA15A\",\"#19d3f3\",\"#FF6692\",\"#B6E880\",\"#FF97FF\",\"#FECB52\"],\"font\":{\"color\":\"#2a3f5f\"},\"geo\":{\"bgcolor\":\"white\",\"lakecolor\":\"white\",\"landcolor\":\"#E5ECF6\",\"showlakes\":true,\"showland\":true,\"subunitcolor\":\"white\"},\"hoverlabel\":{\"align\":\"left\"},\"hovermode\":\"closest\",\"mapbox\":{\"style\":\"light\"},\"paper_bgcolor\":\"white\",\"plot_bgcolor\":\"#E5ECF6\",\"polar\":{\"angularaxis\":{\"gridcolor\":\"white\",\"linecolor\":\"white\",\"ticks\":\"\"},\"bgcolor\":\"#E5ECF6\",\"radialaxis\":{\"gridcolor\":\"white\",\"linecolor\":\"white\",\"ticks\":\"\"}},\"scene\":{\"xaxis\":{\"backgroundcolor\":\"#E5ECF6\",\"gridcolor\":\"white\",\"gridwidth\":2,\"linecolor\":\"white\",\"showbackground\":true,\"ticks\":\"\",\"zerolinecolor\":\"white\"},\"yaxis\":{\"backgroundcolor\":\"#E5ECF6\",\"gridcolor\":\"white\",\"gridwidth\":2,\"linecolor\":\"white\",\"showbackground\":true,\"ticks\":\"\",\"zerolinecolor\":\"white\"},\"zaxis\":{\"backgroundcolor\":\"#E5ECF6\",\"gridcolor\":\"white\",\"gridwidth\":2,\"linecolor\":\"white\",\"showbackground\":true,\"ticks\":\"\",\"zerolinecolor\":\"white\"}},\"shapedefaults\":{\"line\":{\"color\":\"#2a3f5f\"}},\"ternary\":{\"aaxis\":{\"gridcolor\":\"white\",\"linecolor\":\"white\",\"ticks\":\"\"},\"baxis\":{\"gridcolor\":\"white\",\"linecolor\":\"white\",\"ticks\":\"\"},\"bgcolor\":\"#E5ECF6\",\"caxis\":{\"gridcolor\":\"white\",\"linecolor\":\"white\",\"ticks\":\"\"}},\"title\":{\"x\":0.05},\"xaxis\":{\"automargin\":true,\"gridcolor\":\"white\",\"linecolor\":\"white\",\"ticks\":\"\",\"title\":{\"standoff\":15},\"zerolinecolor\":\"white\",\"zerolinewidth\":2},\"yaxis\":{\"automargin\":true,\"gridcolor\":\"white\",\"linecolor\":\"white\",\"ticks\":\"\",\"title\":{\"standoff\":15},\"zerolinecolor\":\"white\",\"zerolinewidth\":2}}},\"xaxis\":{\"anchor\":\"y\",\"domain\":[0.0,1.0],\"title\":{\"text\":\"data\"}},\"yaxis\":{\"anchor\":\"x\",\"domain\":[0.0,1.0],\"title\":{\"text\":\"venda\"}},\"legend\":{\"title\":{\"text\":\"Prediction\"},\"tracegroupgap\":0},\"margin\":{\"t\":60}},                        {\"responsive\": true}                    ).then(function(){\n",
              "                            \n",
              "var gd = document.getElementById('52deb54a-0d2e-4a20-8686-de4682960a60');\n",
              "var x = new MutationObserver(function (mutations, observer) {{\n",
              "        var display = window.getComputedStyle(gd).display;\n",
              "        if (!display || display === 'none') {{\n",
              "            console.log([gd, 'removed!']);\n",
              "            Plotly.purge(gd);\n",
              "            observer.disconnect();\n",
              "        }}\n",
              "}});\n",
              "\n",
              "// Listen for the removal of the full notebook cells\n",
              "var notebookContainer = gd.closest('#notebook-container');\n",
              "if (notebookContainer) {{\n",
              "    x.observe(notebookContainer, {childList: true});\n",
              "}}\n",
              "\n",
              "// Listen for the clearing of the current output cell\n",
              "var outputEl = gd.closest('.output');\n",
              "if (outputEl) {{\n",
              "    x.observe(outputEl, {childList: true});\n",
              "}}\n",
              "\n",
              "                        })                };                            </script>        </div>\n",
              "</body>\n",
              "</html>"
            ]
          },
          "metadata": {}
        },
        {
          "output_type": "stream",
          "name": "stdout",
          "text": [
            "<class 'pandas.core.frame.DataFrame'>\n",
            "Int64Index: 30 entries, 1 to 11\n",
            "Data columns (total 3 columns):\n",
            " #   Column      Non-Null Count  Dtype         \n",
            "---  ------      --------------  -----         \n",
            " 0   data        30 non-null     datetime64[ns]\n",
            " 1   venda       30 non-null     float64       \n",
            " 2   Prediction  30 non-null     object        \n",
            "dtypes: datetime64[ns](1), float64(1), object(1)\n",
            "memory usage: 960.0+ bytes\n"
          ]
        }
      ]
    }
  ]
}