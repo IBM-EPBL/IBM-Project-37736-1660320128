{
  "cells": [
    {
      "cell_type": "markdown",
      "source": [
        "# Colab Link: https://colab.research.google.com/drive/1SorydzFCssfgbJueqNoC6tSmKtasZqtT?usp=sharing"
      ],
      "metadata": {
        "id": "w3OPBj3QFBW6"
      }
    },
    {
      "cell_type": "markdown",
      "source": [
        "# Package installation"
      ],
      "metadata": {
        "id": "KzSs7BiYE6XM"
      }
    },
    {
      "cell_type": "code",
      "execution_count": 1,
      "metadata": {
        "collapsed": true,
        "id": "9rjSc5EWi02k",
        "colab": {
          "base_uri": "https://localhost:8080/"
        },
        "outputId": "3c6fb0f9-7c24-43e2-b913-2c1ef1c31dff"
      },
      "outputs": [
        {
          "output_type": "stream",
          "name": "stdout",
          "text": [
            "Looking in indexes: https://pypi.org/simple, https://us-python.pkg.dev/colab-wheels/public/simple/\n",
            "Requirement already satisfied: jupyter-dash in /usr/local/lib/python3.7/dist-packages (0.4.2)\n",
            "Requirement already satisfied: ipython in /usr/local/lib/python3.7/dist-packages (from jupyter-dash) (7.9.0)\n",
            "Requirement already satisfied: ipykernel in /usr/local/lib/python3.7/dist-packages (from jupyter-dash) (5.3.4)\n",
            "Requirement already satisfied: requests in /usr/local/lib/python3.7/dist-packages (from jupyter-dash) (2.23.0)\n",
            "Requirement already satisfied: flask in /usr/local/lib/python3.7/dist-packages (from jupyter-dash) (1.1.4)\n",
            "Requirement already satisfied: ansi2html in /usr/local/lib/python3.7/dist-packages (from jupyter-dash) (1.8.0)\n",
            "Requirement already satisfied: nest-asyncio in /usr/local/lib/python3.7/dist-packages (from jupyter-dash) (1.5.6)\n",
            "Requirement already satisfied: dash in /usr/local/lib/python3.7/dist-packages (from jupyter-dash) (2.7.0)\n",
            "Requirement already satisfied: retrying in /usr/local/lib/python3.7/dist-packages (from jupyter-dash) (1.3.3)\n",
            "Requirement already satisfied: importlib-metadata in /usr/local/lib/python3.7/dist-packages (from ansi2html->jupyter-dash) (4.13.0)\n",
            "Requirement already satisfied: dash-core-components==2.0.0 in /usr/local/lib/python3.7/dist-packages (from dash->jupyter-dash) (2.0.0)\n",
            "Requirement already satisfied: plotly>=5.0.0 in /usr/local/lib/python3.7/dist-packages (from dash->jupyter-dash) (5.5.0)\n",
            "Requirement already satisfied: dash-table==5.0.0 in /usr/local/lib/python3.7/dist-packages (from dash->jupyter-dash) (5.0.0)\n",
            "Requirement already satisfied: dash-html-components==2.0.0 in /usr/local/lib/python3.7/dist-packages (from dash->jupyter-dash) (2.0.0)\n",
            "Requirement already satisfied: Werkzeug<2.0,>=0.15 in /usr/local/lib/python3.7/dist-packages (from flask->jupyter-dash) (1.0.1)\n",
            "Requirement already satisfied: click<8.0,>=5.1 in /usr/local/lib/python3.7/dist-packages (from flask->jupyter-dash) (7.1.2)\n",
            "Requirement already satisfied: itsdangerous<2.0,>=0.24 in /usr/local/lib/python3.7/dist-packages (from flask->jupyter-dash) (1.1.0)\n",
            "Requirement already satisfied: Jinja2<3.0,>=2.10.1 in /usr/local/lib/python3.7/dist-packages (from flask->jupyter-dash) (2.11.3)\n",
            "Requirement already satisfied: MarkupSafe>=0.23 in /usr/local/lib/python3.7/dist-packages (from Jinja2<3.0,>=2.10.1->flask->jupyter-dash) (2.0.1)\n",
            "Requirement already satisfied: six in /usr/local/lib/python3.7/dist-packages (from plotly>=5.0.0->dash->jupyter-dash) (1.15.0)\n",
            "Requirement already satisfied: tenacity>=6.2.0 in /usr/local/lib/python3.7/dist-packages (from plotly>=5.0.0->dash->jupyter-dash) (8.1.0)\n",
            "Requirement already satisfied: typing-extensions>=3.6.4 in /usr/local/lib/python3.7/dist-packages (from importlib-metadata->ansi2html->jupyter-dash) (4.1.1)\n",
            "Requirement already satisfied: zipp>=0.5 in /usr/local/lib/python3.7/dist-packages (from importlib-metadata->ansi2html->jupyter-dash) (3.10.0)\n",
            "Requirement already satisfied: traitlets>=4.1.0 in /usr/local/lib/python3.7/dist-packages (from ipykernel->jupyter-dash) (5.1.1)\n",
            "Requirement already satisfied: jupyter-client in /usr/local/lib/python3.7/dist-packages (from ipykernel->jupyter-dash) (6.1.12)\n",
            "Requirement already satisfied: tornado>=4.2 in /usr/local/lib/python3.7/dist-packages (from ipykernel->jupyter-dash) (6.2)\n",
            "Requirement already satisfied: pickleshare in /usr/local/lib/python3.7/dist-packages (from ipython->jupyter-dash) (0.7.5)\n",
            "Requirement already satisfied: decorator in /usr/local/lib/python3.7/dist-packages (from ipython->jupyter-dash) (4.4.2)\n",
            "Requirement already satisfied: prompt-toolkit<2.1.0,>=2.0.0 in /usr/local/lib/python3.7/dist-packages (from ipython->jupyter-dash) (2.0.10)\n",
            "Requirement already satisfied: jedi>=0.10 in /usr/local/lib/python3.7/dist-packages (from ipython->jupyter-dash) (0.18.1)\n",
            "Requirement already satisfied: pexpect in /usr/local/lib/python3.7/dist-packages (from ipython->jupyter-dash) (4.8.0)\n",
            "Requirement already satisfied: pygments in /usr/local/lib/python3.7/dist-packages (from ipython->jupyter-dash) (2.6.1)\n",
            "Requirement already satisfied: backcall in /usr/local/lib/python3.7/dist-packages (from ipython->jupyter-dash) (0.2.0)\n",
            "Requirement already satisfied: setuptools>=18.5 in /usr/local/lib/python3.7/dist-packages (from ipython->jupyter-dash) (57.4.0)\n",
            "Requirement already satisfied: parso<0.9.0,>=0.8.0 in /usr/local/lib/python3.7/dist-packages (from jedi>=0.10->ipython->jupyter-dash) (0.8.3)\n",
            "Requirement already satisfied: wcwidth in /usr/local/lib/python3.7/dist-packages (from prompt-toolkit<2.1.0,>=2.0.0->ipython->jupyter-dash) (0.2.5)\n",
            "Requirement already satisfied: pyzmq>=13 in /usr/local/lib/python3.7/dist-packages (from jupyter-client->ipykernel->jupyter-dash) (23.2.1)\n",
            "Requirement already satisfied: python-dateutil>=2.1 in /usr/local/lib/python3.7/dist-packages (from jupyter-client->ipykernel->jupyter-dash) (2.8.2)\n",
            "Requirement already satisfied: jupyter-core>=4.6.0 in /usr/local/lib/python3.7/dist-packages (from jupyter-client->ipykernel->jupyter-dash) (4.11.2)\n",
            "Requirement already satisfied: ptyprocess>=0.5 in /usr/local/lib/python3.7/dist-packages (from pexpect->ipython->jupyter-dash) (0.7.0)\n",
            "Requirement already satisfied: urllib3!=1.25.0,!=1.25.1,<1.26,>=1.21.1 in /usr/local/lib/python3.7/dist-packages (from requests->jupyter-dash) (1.24.3)\n",
            "Requirement already satisfied: chardet<4,>=3.0.2 in /usr/local/lib/python3.7/dist-packages (from requests->jupyter-dash) (3.0.4)\n",
            "Requirement already satisfied: certifi>=2017.4.17 in /usr/local/lib/python3.7/dist-packages (from requests->jupyter-dash) (2022.9.24)\n",
            "Requirement already satisfied: idna<3,>=2.5 in /usr/local/lib/python3.7/dist-packages (from requests->jupyter-dash) (2.10)\n",
            "Looking in indexes: https://pypi.org/simple, https://us-python.pkg.dev/colab-wheels/public/simple/\n",
            "Requirement already satisfied: dash in /usr/local/lib/python3.7/dist-packages (2.7.0)\n",
            "Requirement already satisfied: dash-html-components==2.0.0 in /usr/local/lib/python3.7/dist-packages (from dash) (2.0.0)\n",
            "Requirement already satisfied: Flask>=1.0.4 in /usr/local/lib/python3.7/dist-packages (from dash) (1.1.4)\n",
            "Requirement already satisfied: plotly>=5.0.0 in /usr/local/lib/python3.7/dist-packages (from dash) (5.5.0)\n",
            "Requirement already satisfied: dash-core-components==2.0.0 in /usr/local/lib/python3.7/dist-packages (from dash) (2.0.0)\n",
            "Requirement already satisfied: dash-table==5.0.0 in /usr/local/lib/python3.7/dist-packages (from dash) (5.0.0)\n",
            "Requirement already satisfied: click<8.0,>=5.1 in /usr/local/lib/python3.7/dist-packages (from Flask>=1.0.4->dash) (7.1.2)\n",
            "Requirement already satisfied: itsdangerous<2.0,>=0.24 in /usr/local/lib/python3.7/dist-packages (from Flask>=1.0.4->dash) (1.1.0)\n",
            "Requirement already satisfied: Werkzeug<2.0,>=0.15 in /usr/local/lib/python3.7/dist-packages (from Flask>=1.0.4->dash) (1.0.1)\n",
            "Requirement already satisfied: Jinja2<3.0,>=2.10.1 in /usr/local/lib/python3.7/dist-packages (from Flask>=1.0.4->dash) (2.11.3)\n",
            "Requirement already satisfied: MarkupSafe>=0.23 in /usr/local/lib/python3.7/dist-packages (from Jinja2<3.0,>=2.10.1->Flask>=1.0.4->dash) (2.0.1)\n",
            "Requirement already satisfied: six in /usr/local/lib/python3.7/dist-packages (from plotly>=5.0.0->dash) (1.15.0)\n",
            "Requirement already satisfied: tenacity>=6.2.0 in /usr/local/lib/python3.7/dist-packages (from plotly>=5.0.0->dash) (8.1.0)\n",
            "Looking in indexes: https://pypi.org/simple, https://us-python.pkg.dev/colab-wheels/public/simple/\n",
            "Requirement already satisfied: pyngrok in /usr/local/lib/python3.7/dist-packages (5.1.0)\n",
            "Requirement already satisfied: PyYAML in /usr/local/lib/python3.7/dist-packages (from pyngrok) (6.0)\n",
            "Looking in indexes: https://pypi.org/simple, https://us-python.pkg.dev/colab-wheels/public/simple/\n",
            "Requirement already satisfied: tensorflow in /usr/local/lib/python3.7/dist-packages (2.9.2)\n",
            "Requirement already satisfied: six>=1.12.0 in /usr/local/lib/python3.7/dist-packages (from tensorflow) (1.15.0)\n",
            "Requirement already satisfied: libclang>=13.0.0 in /usr/local/lib/python3.7/dist-packages (from tensorflow) (14.0.6)\n",
            "Requirement already satisfied: flatbuffers<2,>=1.12 in /usr/local/lib/python3.7/dist-packages (from tensorflow) (1.12)\n",
            "Requirement already satisfied: opt-einsum>=2.3.2 in /usr/local/lib/python3.7/dist-packages (from tensorflow) (3.3.0)\n",
            "Requirement already satisfied: setuptools in /usr/local/lib/python3.7/dist-packages (from tensorflow) (57.4.0)\n",
            "Requirement already satisfied: keras-preprocessing>=1.1.1 in /usr/local/lib/python3.7/dist-packages (from tensorflow) (1.1.2)\n",
            "Requirement already satisfied: h5py>=2.9.0 in /usr/local/lib/python3.7/dist-packages (from tensorflow) (3.1.0)\n",
            "Requirement already satisfied: tensorflow-io-gcs-filesystem>=0.23.1 in /usr/local/lib/python3.7/dist-packages (from tensorflow) (0.27.0)\n",
            "Requirement already satisfied: keras<2.10.0,>=2.9.0rc0 in /usr/local/lib/python3.7/dist-packages (from tensorflow) (2.9.0)\n",
            "Requirement already satisfied: absl-py>=1.0.0 in /usr/local/lib/python3.7/dist-packages (from tensorflow) (1.3.0)\n",
            "Requirement already satisfied: grpcio<2.0,>=1.24.3 in /usr/local/lib/python3.7/dist-packages (from tensorflow) (1.50.0)\n",
            "Requirement already satisfied: protobuf<3.20,>=3.9.2 in /usr/local/lib/python3.7/dist-packages (from tensorflow) (3.19.6)\n",
            "Requirement already satisfied: typing-extensions>=3.6.6 in /usr/local/lib/python3.7/dist-packages (from tensorflow) (4.1.1)\n",
            "Requirement already satisfied: tensorboard<2.10,>=2.9 in /usr/local/lib/python3.7/dist-packages (from tensorflow) (2.9.1)\n",
            "Requirement already satisfied: astunparse>=1.6.0 in /usr/local/lib/python3.7/dist-packages (from tensorflow) (1.6.3)\n",
            "Requirement already satisfied: termcolor>=1.1.0 in /usr/local/lib/python3.7/dist-packages (from tensorflow) (2.1.0)\n",
            "Requirement already satisfied: gast<=0.4.0,>=0.2.1 in /usr/local/lib/python3.7/dist-packages (from tensorflow) (0.4.0)\n",
            "Requirement already satisfied: tensorflow-estimator<2.10.0,>=2.9.0rc0 in /usr/local/lib/python3.7/dist-packages (from tensorflow) (2.9.0)\n",
            "Requirement already satisfied: google-pasta>=0.1.1 in /usr/local/lib/python3.7/dist-packages (from tensorflow) (0.2.0)\n",
            "Requirement already satisfied: wrapt>=1.11.0 in /usr/local/lib/python3.7/dist-packages (from tensorflow) (1.14.1)\n",
            "Requirement already satisfied: numpy>=1.20 in /usr/local/lib/python3.7/dist-packages (from tensorflow) (1.21.6)\n",
            "Requirement already satisfied: packaging in /usr/local/lib/python3.7/dist-packages (from tensorflow) (21.3)\n",
            "Requirement already satisfied: wheel<1.0,>=0.23.0 in /usr/local/lib/python3.7/dist-packages (from astunparse>=1.6.0->tensorflow) (0.38.3)\n",
            "Requirement already satisfied: cached-property in /usr/local/lib/python3.7/dist-packages (from h5py>=2.9.0->tensorflow) (1.5.2)\n",
            "Requirement already satisfied: google-auth-oauthlib<0.5,>=0.4.1 in /usr/local/lib/python3.7/dist-packages (from tensorboard<2.10,>=2.9->tensorflow) (0.4.6)\n",
            "Requirement already satisfied: werkzeug>=1.0.1 in /usr/local/lib/python3.7/dist-packages (from tensorboard<2.10,>=2.9->tensorflow) (1.0.1)\n",
            "Requirement already satisfied: markdown>=2.6.8 in /usr/local/lib/python3.7/dist-packages (from tensorboard<2.10,>=2.9->tensorflow) (3.4.1)\n",
            "Requirement already satisfied: requests<3,>=2.21.0 in /usr/local/lib/python3.7/dist-packages (from tensorboard<2.10,>=2.9->tensorflow) (2.23.0)\n",
            "Requirement already satisfied: tensorboard-data-server<0.7.0,>=0.6.0 in /usr/local/lib/python3.7/dist-packages (from tensorboard<2.10,>=2.9->tensorflow) (0.6.1)\n",
            "Requirement already satisfied: google-auth<3,>=1.6.3 in /usr/local/lib/python3.7/dist-packages (from tensorboard<2.10,>=2.9->tensorflow) (2.14.1)\n",
            "Requirement already satisfied: tensorboard-plugin-wit>=1.6.0 in /usr/local/lib/python3.7/dist-packages (from tensorboard<2.10,>=2.9->tensorflow) (1.8.1)\n",
            "Requirement already satisfied: rsa<5,>=3.1.4 in /usr/local/lib/python3.7/dist-packages (from google-auth<3,>=1.6.3->tensorboard<2.10,>=2.9->tensorflow) (4.9)\n",
            "Requirement already satisfied: pyasn1-modules>=0.2.1 in /usr/local/lib/python3.7/dist-packages (from google-auth<3,>=1.6.3->tensorboard<2.10,>=2.9->tensorflow) (0.2.8)\n",
            "Requirement already satisfied: cachetools<6.0,>=2.0.0 in /usr/local/lib/python3.7/dist-packages (from google-auth<3,>=1.6.3->tensorboard<2.10,>=2.9->tensorflow) (5.2.0)\n",
            "Requirement already satisfied: requests-oauthlib>=0.7.0 in /usr/local/lib/python3.7/dist-packages (from google-auth-oauthlib<0.5,>=0.4.1->tensorboard<2.10,>=2.9->tensorflow) (1.3.1)\n",
            "Requirement already satisfied: importlib-metadata>=4.4 in /usr/local/lib/python3.7/dist-packages (from markdown>=2.6.8->tensorboard<2.10,>=2.9->tensorflow) (4.13.0)\n",
            "Requirement already satisfied: zipp>=0.5 in /usr/local/lib/python3.7/dist-packages (from importlib-metadata>=4.4->markdown>=2.6.8->tensorboard<2.10,>=2.9->tensorflow) (3.10.0)\n",
            "Requirement already satisfied: pyasn1<0.5.0,>=0.4.6 in /usr/local/lib/python3.7/dist-packages (from pyasn1-modules>=0.2.1->google-auth<3,>=1.6.3->tensorboard<2.10,>=2.9->tensorflow) (0.4.8)\n",
            "Requirement already satisfied: chardet<4,>=3.0.2 in /usr/local/lib/python3.7/dist-packages (from requests<3,>=2.21.0->tensorboard<2.10,>=2.9->tensorflow) (3.0.4)\n",
            "Requirement already satisfied: urllib3!=1.25.0,!=1.25.1,<1.26,>=1.21.1 in /usr/local/lib/python3.7/dist-packages (from requests<3,>=2.21.0->tensorboard<2.10,>=2.9->tensorflow) (1.24.3)\n",
            "Requirement already satisfied: certifi>=2017.4.17 in /usr/local/lib/python3.7/dist-packages (from requests<3,>=2.21.0->tensorboard<2.10,>=2.9->tensorflow) (2022.9.24)\n",
            "Requirement already satisfied: idna<3,>=2.5 in /usr/local/lib/python3.7/dist-packages (from requests<3,>=2.21.0->tensorboard<2.10,>=2.9->tensorflow) (2.10)\n",
            "Requirement already satisfied: oauthlib>=3.0.0 in /usr/local/lib/python3.7/dist-packages (from requests-oauthlib>=0.7.0->google-auth-oauthlib<0.5,>=0.4.1->tensorboard<2.10,>=2.9->tensorflow) (3.2.2)\n",
            "Requirement already satisfied: pyparsing!=3.0.5,>=2.0.2 in /usr/local/lib/python3.7/dist-packages (from packaging->tensorflow) (3.0.9)\n",
            "Looking in indexes: https://pypi.org/simple, https://us-python.pkg.dev/colab-wheels/public/simple/\n",
            "Requirement already satisfied: sklearn in /usr/local/lib/python3.7/dist-packages (0.0.post1)\n",
            "Looking in indexes: https://pypi.org/simple, https://us-python.pkg.dev/colab-wheels/public/simple/\n",
            "Requirement already satisfied: jupyterlab-dash in /usr/local/lib/python3.7/dist-packages (0.1.0a3)\n",
            "Requirement already satisfied: dash in /usr/local/lib/python3.7/dist-packages (from jupyterlab-dash) (2.7.0)\n",
            "Requirement already satisfied: jupyter-server-proxy in /usr/local/lib/python3.7/dist-packages (from jupyterlab-dash) (3.2.2)\n",
            "Requirement already satisfied: dash-core-components==2.0.0 in /usr/local/lib/python3.7/dist-packages (from dash->jupyterlab-dash) (2.0.0)\n",
            "Requirement already satisfied: dash-html-components==2.0.0 in /usr/local/lib/python3.7/dist-packages (from dash->jupyterlab-dash) (2.0.0)\n",
            "Requirement already satisfied: plotly>=5.0.0 in /usr/local/lib/python3.7/dist-packages (from dash->jupyterlab-dash) (5.5.0)\n",
            "Requirement already satisfied: dash-table==5.0.0 in /usr/local/lib/python3.7/dist-packages (from dash->jupyterlab-dash) (5.0.0)\n",
            "Requirement already satisfied: Flask>=1.0.4 in /usr/local/lib/python3.7/dist-packages (from dash->jupyterlab-dash) (1.1.4)\n",
            "Requirement already satisfied: Jinja2<3.0,>=2.10.1 in /usr/local/lib/python3.7/dist-packages (from Flask>=1.0.4->dash->jupyterlab-dash) (2.11.3)\n",
            "Requirement already satisfied: click<8.0,>=5.1 in /usr/local/lib/python3.7/dist-packages (from Flask>=1.0.4->dash->jupyterlab-dash) (7.1.2)\n",
            "Requirement already satisfied: itsdangerous<2.0,>=0.24 in /usr/local/lib/python3.7/dist-packages (from Flask>=1.0.4->dash->jupyterlab-dash) (1.1.0)\n",
            "Requirement already satisfied: Werkzeug<2.0,>=0.15 in /usr/local/lib/python3.7/dist-packages (from Flask>=1.0.4->dash->jupyterlab-dash) (1.0.1)\n",
            "Requirement already satisfied: MarkupSafe>=0.23 in /usr/local/lib/python3.7/dist-packages (from Jinja2<3.0,>=2.10.1->Flask>=1.0.4->dash->jupyterlab-dash) (2.0.1)\n",
            "Requirement already satisfied: tenacity>=6.2.0 in /usr/local/lib/python3.7/dist-packages (from plotly>=5.0.0->dash->jupyterlab-dash) (8.1.0)\n",
            "Requirement already satisfied: six in /usr/local/lib/python3.7/dist-packages (from plotly>=5.0.0->dash->jupyterlab-dash) (1.15.0)\n",
            "Requirement already satisfied: jupyter-server>=1.0 in /usr/local/lib/python3.7/dist-packages (from jupyter-server-proxy->jupyterlab-dash) (1.23.2)\n",
            "Requirement already satisfied: simpervisor>=0.4 in /usr/local/lib/python3.7/dist-packages (from jupyter-server-proxy->jupyterlab-dash) (0.4)\n",
            "Requirement already satisfied: aiohttp in /usr/local/lib/python3.7/dist-packages (from jupyter-server-proxy->jupyterlab-dash) (3.8.3)\n",
            "Requirement already satisfied: traitlets>=5.1 in /usr/local/lib/python3.7/dist-packages (from jupyter-server>=1.0->jupyter-server-proxy->jupyterlab-dash) (5.1.1)\n",
            "Requirement already satisfied: jupyter-client>=6.1.12 in /usr/local/lib/python3.7/dist-packages (from jupyter-server>=1.0->jupyter-server-proxy->jupyterlab-dash) (6.1.12)\n",
            "Requirement already satisfied: websocket-client in /usr/local/lib/python3.7/dist-packages (from jupyter-server>=1.0->jupyter-server-proxy->jupyterlab-dash) (1.4.2)\n",
            "Requirement already satisfied: argon2-cffi in /usr/local/lib/python3.7/dist-packages (from jupyter-server>=1.0->jupyter-server-proxy->jupyterlab-dash) (21.3.0)\n",
            "Requirement already satisfied: anyio<4,>=3.1.0 in /usr/local/lib/python3.7/dist-packages (from jupyter-server>=1.0->jupyter-server-proxy->jupyterlab-dash) (3.6.2)\n",
            "Requirement already satisfied: prometheus-client in /usr/local/lib/python3.7/dist-packages (from jupyter-server>=1.0->jupyter-server-proxy->jupyterlab-dash) (0.15.0)\n",
            "Requirement already satisfied: terminado>=0.8.3 in /usr/local/lib/python3.7/dist-packages (from jupyter-server>=1.0->jupyter-server-proxy->jupyterlab-dash) (0.13.3)\n",
            "Requirement already satisfied: nbconvert>=6.4.4 in /usr/local/lib/python3.7/dist-packages (from jupyter-server>=1.0->jupyter-server-proxy->jupyterlab-dash) (6.4.5)\n",
            "Requirement already satisfied: pyzmq>=17 in /usr/local/lib/python3.7/dist-packages (from jupyter-server>=1.0->jupyter-server-proxy->jupyterlab-dash) (23.2.1)\n",
            "Requirement already satisfied: Send2Trash in /usr/local/lib/python3.7/dist-packages (from jupyter-server>=1.0->jupyter-server-proxy->jupyterlab-dash) (1.8.0)\n",
            "Requirement already satisfied: nbformat>=5.2.0 in /usr/local/lib/python3.7/dist-packages (from jupyter-server>=1.0->jupyter-server-proxy->jupyterlab-dash) (5.7.0)\n",
            "Requirement already satisfied: jupyter-core>=4.7.0 in /usr/local/lib/python3.7/dist-packages (from jupyter-server>=1.0->jupyter-server-proxy->jupyterlab-dash) (4.11.2)\n",
            "Requirement already satisfied: packaging in /usr/local/lib/python3.7/dist-packages (from jupyter-server>=1.0->jupyter-server-proxy->jupyterlab-dash) (21.3)\n",
            "Requirement already satisfied: tornado>=6.1.0 in /usr/local/lib/python3.7/dist-packages (from jupyter-server>=1.0->jupyter-server-proxy->jupyterlab-dash) (6.2)\n",
            "Requirement already satisfied: sniffio>=1.1 in /usr/local/lib/python3.7/dist-packages (from anyio<4,>=3.1.0->jupyter-server>=1.0->jupyter-server-proxy->jupyterlab-dash) (1.3.0)\n",
            "Requirement already satisfied: idna>=2.8 in /usr/local/lib/python3.7/dist-packages (from anyio<4,>=3.1.0->jupyter-server>=1.0->jupyter-server-proxy->jupyterlab-dash) (2.10)\n",
            "Requirement already satisfied: typing-extensions in /usr/local/lib/python3.7/dist-packages (from anyio<4,>=3.1.0->jupyter-server>=1.0->jupyter-server-proxy->jupyterlab-dash) (4.1.1)\n",
            "Requirement already satisfied: python-dateutil>=2.1 in /usr/local/lib/python3.7/dist-packages (from jupyter-client>=6.1.12->jupyter-server>=1.0->jupyter-server-proxy->jupyterlab-dash) (2.8.2)\n",
            "Requirement already satisfied: beautifulsoup4 in /usr/local/lib/python3.7/dist-packages (from nbconvert>=6.4.4->jupyter-server>=1.0->jupyter-server-proxy->jupyterlab-dash) (4.6.3)\n",
            "Requirement already satisfied: pandocfilters>=1.4.1 in /usr/local/lib/python3.7/dist-packages (from nbconvert>=6.4.4->jupyter-server>=1.0->jupyter-server-proxy->jupyterlab-dash) (1.5.0)\n",
            "Requirement already satisfied: defusedxml in /usr/local/lib/python3.7/dist-packages (from nbconvert>=6.4.4->jupyter-server>=1.0->jupyter-server-proxy->jupyterlab-dash) (0.7.1)\n",
            "Requirement already satisfied: mistune<2,>=0.8.1 in /usr/local/lib/python3.7/dist-packages (from nbconvert>=6.4.4->jupyter-server>=1.0->jupyter-server-proxy->jupyterlab-dash) (0.8.4)\n",
            "Requirement already satisfied: nbclient<0.6.0,>=0.5.0 in /usr/local/lib/python3.7/dist-packages (from nbconvert>=6.4.4->jupyter-server>=1.0->jupyter-server-proxy->jupyterlab-dash) (0.5.13)\n",
            "Requirement already satisfied: bleach in /usr/local/lib/python3.7/dist-packages (from nbconvert>=6.4.4->jupyter-server>=1.0->jupyter-server-proxy->jupyterlab-dash) (5.0.1)\n",
            "Requirement already satisfied: entrypoints>=0.2.2 in /usr/local/lib/python3.7/dist-packages (from nbconvert>=6.4.4->jupyter-server>=1.0->jupyter-server-proxy->jupyterlab-dash) (0.4)\n",
            "Requirement already satisfied: jupyterlab-pygments in /usr/local/lib/python3.7/dist-packages (from nbconvert>=6.4.4->jupyter-server>=1.0->jupyter-server-proxy->jupyterlab-dash) (0.2.2)\n",
            "Requirement already satisfied: pygments>=2.4.1 in /usr/local/lib/python3.7/dist-packages (from nbconvert>=6.4.4->jupyter-server>=1.0->jupyter-server-proxy->jupyterlab-dash) (2.6.1)\n",
            "Requirement already satisfied: testpath in /usr/local/lib/python3.7/dist-packages (from nbconvert>=6.4.4->jupyter-server>=1.0->jupyter-server-proxy->jupyterlab-dash) (0.6.0)\n",
            "Requirement already satisfied: nest-asyncio in /usr/local/lib/python3.7/dist-packages (from nbclient<0.6.0,>=0.5.0->nbconvert>=6.4.4->jupyter-server>=1.0->jupyter-server-proxy->jupyterlab-dash) (1.5.6)\n",
            "Requirement already satisfied: fastjsonschema in /usr/local/lib/python3.7/dist-packages (from nbformat>=5.2.0->jupyter-server>=1.0->jupyter-server-proxy->jupyterlab-dash) (2.16.2)\n",
            "Requirement already satisfied: jsonschema>=2.6 in /usr/local/lib/python3.7/dist-packages (from nbformat>=5.2.0->jupyter-server>=1.0->jupyter-server-proxy->jupyterlab-dash) (4.3.3)\n",
            "Requirement already satisfied: importlib-metadata>=3.6 in /usr/local/lib/python3.7/dist-packages (from nbformat>=5.2.0->jupyter-server>=1.0->jupyter-server-proxy->jupyterlab-dash) (4.13.0)\n",
            "Requirement already satisfied: zipp>=0.5 in /usr/local/lib/python3.7/dist-packages (from importlib-metadata>=3.6->nbformat>=5.2.0->jupyter-server>=1.0->jupyter-server-proxy->jupyterlab-dash) (3.10.0)\n",
            "Requirement already satisfied: importlib-resources>=1.4.0 in /usr/local/lib/python3.7/dist-packages (from jsonschema>=2.6->nbformat>=5.2.0->jupyter-server>=1.0->jupyter-server-proxy->jupyterlab-dash) (5.10.0)\n",
            "Requirement already satisfied: pyrsistent!=0.17.0,!=0.17.1,!=0.17.2,>=0.14.0 in /usr/local/lib/python3.7/dist-packages (from jsonschema>=2.6->nbformat>=5.2.0->jupyter-server>=1.0->jupyter-server-proxy->jupyterlab-dash) (0.19.2)\n",
            "Requirement already satisfied: attrs>=17.4.0 in /usr/local/lib/python3.7/dist-packages (from jsonschema>=2.6->nbformat>=5.2.0->jupyter-server>=1.0->jupyter-server-proxy->jupyterlab-dash) (22.1.0)\n",
            "Requirement already satisfied: ptyprocess in /usr/local/lib/python3.7/dist-packages (from terminado>=0.8.3->jupyter-server>=1.0->jupyter-server-proxy->jupyterlab-dash) (0.7.0)\n",
            "Requirement already satisfied: yarl<2.0,>=1.0 in /usr/local/lib/python3.7/dist-packages (from aiohttp->jupyter-server-proxy->jupyterlab-dash) (1.8.1)\n",
            "Requirement already satisfied: frozenlist>=1.1.1 in /usr/local/lib/python3.7/dist-packages (from aiohttp->jupyter-server-proxy->jupyterlab-dash) (1.3.3)\n",
            "Requirement already satisfied: aiosignal>=1.1.2 in /usr/local/lib/python3.7/dist-packages (from aiohttp->jupyter-server-proxy->jupyterlab-dash) (1.3.1)\n",
            "Requirement already satisfied: charset-normalizer<3.0,>=2.0 in /usr/local/lib/python3.7/dist-packages (from aiohttp->jupyter-server-proxy->jupyterlab-dash) (2.1.1)\n",
            "Requirement already satisfied: asynctest==0.13.0 in /usr/local/lib/python3.7/dist-packages (from aiohttp->jupyter-server-proxy->jupyterlab-dash) (0.13.0)\n",
            "Requirement already satisfied: multidict<7.0,>=4.5 in /usr/local/lib/python3.7/dist-packages (from aiohttp->jupyter-server-proxy->jupyterlab-dash) (6.0.2)\n",
            "Requirement already satisfied: async-timeout<5.0,>=4.0.0a3 in /usr/local/lib/python3.7/dist-packages (from aiohttp->jupyter-server-proxy->jupyterlab-dash) (4.0.2)\n",
            "Requirement already satisfied: argon2-cffi-bindings in /usr/local/lib/python3.7/dist-packages (from argon2-cffi->jupyter-server>=1.0->jupyter-server-proxy->jupyterlab-dash) (21.2.0)\n",
            "Requirement already satisfied: cffi>=1.0.1 in /usr/local/lib/python3.7/dist-packages (from argon2-cffi-bindings->argon2-cffi->jupyter-server>=1.0->jupyter-server-proxy->jupyterlab-dash) (1.15.1)\n",
            "Requirement already satisfied: pycparser in /usr/local/lib/python3.7/dist-packages (from cffi>=1.0.1->argon2-cffi-bindings->argon2-cffi->jupyter-server>=1.0->jupyter-server-proxy->jupyterlab-dash) (2.21)\n",
            "Requirement already satisfied: webencodings in /usr/local/lib/python3.7/dist-packages (from bleach->nbconvert>=6.4.4->jupyter-server>=1.0->jupyter-server-proxy->jupyterlab-dash) (0.5.1)\n",
            "Requirement already satisfied: pyparsing!=3.0.5,>=2.0.2 in /usr/local/lib/python3.7/dist-packages (from packaging->jupyter-server>=1.0->jupyter-server-proxy->jupyterlab-dash) (3.0.9)\n"
          ]
        }
      ],
      "source": [
        "!pip install jupyter-dash\n",
        "!pip install dash\n",
        "!pip install pyngrok\n",
        "!pip install tensorflow\n",
        "!pip install sklearn\n",
        "!pip install jupyterlab-dash"
      ]
    },
    {
      "cell_type": "markdown",
      "source": [
        "# Ngrok Authentication Variable"
      ],
      "metadata": {
        "id": "tUsBhgWsE3RS"
      }
    },
    {
      "cell_type": "code",
      "execution_count": 2,
      "metadata": {
        "id": "ZRqrqNsw3Mfj",
        "colab": {
          "base_uri": "https://localhost:8080/"
        },
        "outputId": "3e9f33c6-ab1e-44a2-d594-cb82d9a59b35"
      },
      "outputs": [
        {
          "output_type": "stream",
          "name": "stdout",
          "text": [
            "Authtoken saved to configuration file: /root/.ngrok2/ngrok.yml\n"
          ]
        }
      ],
      "source": [
        "!ngrok authtoken 2GuOWCWZbBbtulADXsAB8bjKGHC_5e53eZJ1ZUj7SwCQohFhA"
      ]
    },
    {
      "cell_type": "markdown",
      "source": [
        "# Initialization"
      ],
      "metadata": {
        "id": "ufrwQjwbFRHx"
      }
    },
    {
      "cell_type": "code",
      "execution_count": 3,
      "metadata": {
        "collapsed": true,
        "id": "eUFDuSaeF5Be",
        "colab": {
          "base_uri": "https://localhost:8080/",
          "height": 86
        },
        "outputId": "96359c9e-b97c-4921-9d30-612ac51238e9"
      },
      "outputs": [
        {
          "output_type": "stream",
          "name": "stderr",
          "text": [
            "/usr/local/lib/python3.7/dist-packages/ipykernel_launcher.py:7: UserWarning: \n",
            "The dash_core_components package is deprecated. Please replace\n",
            "`import dash_core_components as dcc` with `from dash import dcc`\n",
            "  import sys\n"
          ]
        }
      ],
      "source": [
        "#@title\n",
        "import base64\n",
        "import datetime\n",
        "import io\n",
        "from jupyter_dash import JupyterDash\n",
        "from dash import dcc, html, Dash, dash_table\n",
        "import dash_core_components as dcc\n",
        "from dash import html\n",
        "from dash.dependencies import Input, Output, State\n",
        "import pandas as pd\n",
        "from pyngrok import ngrok\n",
        "import os\n",
        "import numpy as np\n",
        "from xgboost import XGBRegressor\n",
        "from sklearn.ensemble import RandomForestRegressor\n",
        "from sklearn.linear_model import LinearRegression\n",
        "from sklearn.metrics import mean_absolute_error, mean_squared_error, r2_score\n",
        "from sklearn.preprocessing import MinMaxScaler\n",
        "from tensorflow.keras.models import Sequential\n",
        "from tensorflow.keras.layers import Dense, LSTM\n",
        "from tensorflow.keras.callbacks import EarlyStopping, ModelCheckpoint\n",
        "import plotly.express as px\n",
        "import plotly\n",
        "from base64 import b64encode\n"
      ]
    },
    {
      "cell_type": "markdown",
      "source": [
        "# Clearing Exsisting Ngrok Sessions"
      ],
      "metadata": {
        "id": "DMpQmSBRFUh4"
      }
    },
    {
      "cell_type": "code",
      "execution_count": 4,
      "metadata": {
        "id": "eUFvPdVeA0SI"
      },
      "outputs": [],
      "source": [
        "ngrok.kill()"
      ]
    },
    {
      "cell_type": "markdown",
      "source": [
        "# Creating new Ngrok Session"
      ],
      "metadata": {
        "id": "p2gL8YfiFaK5"
      }
    },
    {
      "cell_type": "code",
      "execution_count": 5,
      "metadata": {
        "id": "gQPjcLrPA1cV",
        "colab": {
          "base_uri": "https://localhost:8080/"
        },
        "outputId": "6a7a65bb-aea8-4382-8864-7b89325f9167"
      },
      "outputs": [
        {
          "output_type": "execute_result",
          "data": {
            "text/plain": [
              "<NgrokTunnel: \"http://249b-35-237-230-90.ngrok.io\" -> \"http://localhost:8050\">"
            ]
          },
          "metadata": {},
          "execution_count": 5
        }
      ],
      "source": [
        "public_url = ngrok.connect(8050)\n",
        "public_url"
      ]
    },
    {
      "cell_type": "markdown",
      "source": [
        "# Backend Code\n",
        "##Semi-Optimized"
      ],
      "metadata": {
        "id": "Id_FMEkLFgTQ"
      }
    },
    {
      "cell_type": "code",
      "execution_count": 6,
      "metadata": {
        "id": "0Pi57auMijr9",
        "colab": {
          "base_uri": "https://localhost:8080/",
          "height": 52
        },
        "outputId": "47bfa673-573b-4010-c896-909b1d2869bd"
      },
      "outputs": [
        {
          "output_type": "stream",
          "name": "stdout",
          "text": [
            "Dash app running on:\n"
          ]
        },
        {
          "output_type": "display_data",
          "data": {
            "text/plain": [
              "<IPython.core.display.Javascript object>"
            ],
            "application/javascript": [
              "(async (port, path, text, element) => {\n",
              "    if (!google.colab.kernel.accessAllowed) {\n",
              "      return;\n",
              "    }\n",
              "    element.appendChild(document.createTextNode(''));\n",
              "    const url = await google.colab.kernel.proxyPort(port);\n",
              "    const anchor = document.createElement('a');\n",
              "    anchor.href = new URL(path, url).toString();\n",
              "    anchor.target = '_blank';\n",
              "    anchor.setAttribute('data-href', url + path);\n",
              "    anchor.textContent = text;\n",
              "    element.appendChild(anchor);\n",
              "  })(8050, \"/\", \"http://127.0.0.1:8050/\", window.element)"
            ]
          },
          "metadata": {}
        }
      ],
      "source": [
        "def backend_main(contents, filename, datee):\n",
        "  content_type, content_string = contents.split(',')\n",
        "\n",
        "  decoded = base64.b64decode(content_string)\n",
        "  try:\n",
        "      if 'csv' in filename:\n",
        "            # Assume that the user uploaded a CSV file\n",
        "          store_sales = pd.read_csv(\n",
        "              io.StringIO(decoded.decode('utf-8')))\n",
        "      elif 'xls' in filename:\n",
        "            # Assume that the user uploaded an excel file\n",
        "          store_sales = pd.read_excel(io.BytesIO(decoded))\n",
        "  except Exception as e:\n",
        "    return html.Div([\n",
        "            'There was an error processing this file.'\n",
        "        ])\n",
        "  #Variable Declaration\n",
        "  #store_sales = pd.read_csv(\"mock_kaggle.csv\")\n",
        "  date = 'data'\n",
        "  sales = 'venda'\n",
        "  sales_diff = 'sales_diff'\n",
        "  LP = 'venda'\n",
        "  img = 'Predict.jpg'\n",
        "  drpdata = ['estoque', 'preco']\n",
        "  pred = 'Prediction'\n",
        "  predtrue = 'Original'\n",
        "  predfalse = 'Prediction'\n",
        "  #Dropping store and item columns\n",
        "  store_sales = store_sales.drop(drpdata, axis=1)\n",
        "  #Coverting 'date' string to 'Date' type\n",
        "  store_sales[date] = pd.to_datetime(store_sales[date])\n",
        "  #Sumation of sales in months\n",
        "  store_sales[date] = store_sales[date].dt.to_period(\"M\")\n",
        "  monthly_sales = store_sales.groupby(date).sum().reset_index()\n",
        "  #Converting resulting 'date' type to 'timestamp' datatype\n",
        "  monthly_sales[date] = monthly_sales[date].dt.to_timestamp()\n",
        "  # Visualization\n",
        "  #plt.figure(figsize=(15,5))\n",
        "  #plt.plot(monthly_sales[date], monthly_sales[sales])\n",
        "  #plt.xlabel(\"Date\")\n",
        "  #plt.ylabel(\"Sales\")\n",
        "  #plt.title(\"RESULT\")\n",
        "  #plt.show()\n",
        "  # Finding Difference of sales month\n",
        "  monthly_sales[sales_diff] = monthly_sales[sales].diff()\n",
        "  monthly_sales = monthly_sales.dropna()\n",
        "  # Dropping 'sales' and 'date'\n",
        "  supervised_data = monthly_sales.drop([date, sales], axis=1)\n",
        "  # Preparing Supervised Data\n",
        "  for i in range(1,13):\n",
        "    col_name = 'month_' + str(i)\n",
        "    supervised_data[col_name] = supervised_data[sales_diff].shift(i)\n",
        "  supervised_data = supervised_data.dropna().reset_index(drop=True)\n",
        "  ## Split data into train and test\n",
        "  train_data = supervised_data[:-12]\n",
        "  test_data = supervised_data[-12:]\n",
        "  #print(\"Train Data Shape: \", train_data.shape)\n",
        "  #print(\"Test Data Shape: \", test_data.shape)\n",
        "  scaler = MinMaxScaler(feature_range=(-1,1))\n",
        "  scaler.fit(train_data)\n",
        "  train_data = scaler.transform(train_data)\n",
        "  test_data = scaler.transform(test_data)\n",
        "  x_train, y_train = train_data[:,1:], train_data[:,0:1]\n",
        "  x_test, y_test = test_data[:,1:], test_data[:,0:1]\n",
        "  y_train = y_train.ravel()\n",
        "  y_test = y_test.ravel()\n",
        "  #print(\"X_train Shape: \", x_train.shape)\n",
        "  #print(\"Y_train Shape: \", y_train.shape)\n",
        "  #print(\"X_test Shape: \", x_test.shape)\n",
        "  #print(\"Y_test Shape: \", y_test.shape)\n",
        "  # Make Prediction data frame to merge the predicted sales of all trained algs\n",
        "  sales_dates = monthly_sales[date][-12:].reset_index(drop=True)\n",
        "  predict_df = pd.DataFrame(sales_dates)\n",
        "  act_sales = monthly_sales[sales][-13:].to_list()\n",
        "  #print(act_sales)\n",
        "  # To create the linear regression model, and predicted output\n",
        "  lr_model = LinearRegression()\n",
        "  lr_model.fit(x_train, y_train)\n",
        "  lr_pre = lr_model.predict(x_test)\n",
        "  lr_pre = lr_pre.reshape(-1,1)\n",
        "  ###This is a set matrix - contains the input features of the test data, and also the predicted data output\n",
        "  lr_pre_test_set = np.concatenate([lr_pre, x_test], axis=1)\n",
        "  lr_pre_test_set = scaler.inverse_transform(lr_pre_test_set)\n",
        "  result_list = []\n",
        "  for index in range(0, len(lr_pre_test_set)):\n",
        "    result_list.append(lr_pre_test_set[index][0] + act_sales[index])\n",
        "  lr_pre_series = pd.Series(result_list, name=LP)\n",
        "  predict_df = predict_df.merge(lr_pre_series, left_index=True, right_index=True)\n",
        "  for i in predict_df[date]:\n",
        "    predict_df[pred] = predtrue\n",
        "\n",
        "  for i in monthly_sales[date]:\n",
        "    monthly_sales[pred] = predfalse\n",
        "\n",
        "  ############ This part need to learn, i think ###############\n",
        "  lr_mse = np.sqrt(mean_squared_error(predict_df[LP], monthly_sales[sales][-12:]))\n",
        "  lr_mae = mean_absolute_error(predict_df[LP], monthly_sales[sales][-12:])\n",
        "  lr_r2 = r2_score = (predict_df[LP], monthly_sales[sales][-12:])\n",
        "  monthly_sales[sales] = monthly_sales[sales][:-12]\n",
        "  #print(\"Linear Regression MSE: \", lr_mse)\n",
        "  #print(\"Linear Regression MAE: \", lr_mae)\n",
        "  #print(\"Linear Regression R2: \", lr_r2)\n",
        "  #plt.figure(figsize=(15,5))\n",
        "  ###Actual Sales\n",
        "  #plt.plot(monthly_sales[date], monthly_sales[sales])\n",
        "  ###Predicted Sales\n",
        "  #plt.plot(predict_df[date], predict_df[LP])\n",
        "  #plt.xlabel(\"Date\")\n",
        "  #plt.ylabel(\"Sales\")\n",
        "  #plt.legend(['Actual sales', 'Predicted Sales'])\n",
        "  #plt.savefig(img)\n",
        "  result = pd.concat([monthly_sales.drop(sales_diff, axis=1),predict_df]).dropna()## find solution\n",
        "  fig = px.scatter(result, x=date, y=sales, color=pred, trendline=\"lowess\", trendline_options=dict(frac=0.1))\n",
        "  fig.show()\n",
        "  plotly.offline.plot(fig, filename='Predict.html')\n",
        "  return html.Div([\n",
        "      html.Button(\"Download Graph\", id=\"btn_image\"),\n",
        "      dcc.Download(id=\"download-image\")\n",
        "    ])\n",
        "\n",
        "\n",
        "\n",
        "app = JupyterDash(__name__)\n",
        "app.title =\"Retail Stock Management\"\n",
        "app.layout = html.Div(children=[\n",
        "    html.H1(children='Retail Stock Management'),\n",
        "    html.H2(children='Username'),\n",
        "    dcc.Input(\n",
        "        id=\"Username\",\n",
        "        type=\"text\",\n",
        "        placeholder=\"Username\",\n",
        "              ),\n",
        "#    html.br(),\n",
        "    html.H2(children=\"Password\"),\n",
        "    dcc.Input(\n",
        "        id=\"Password\",\n",
        "        type=\"password\",\n",
        "        placeholder=\"Password\",\n",
        "              ),\n",
        "#    html.Button(\"Login\", id=\"btn_login\"),\n",
        "    html.Div(id='output-sign-in'),\n",
        "    html.Div(id='output-data-upload'),\n",
        "])\n",
        "\n",
        "@app.callback(Output('output-sign-in', 'children'),###########Fix buttton\n",
        "              [Input('Username', 'value'),\n",
        "              Input('Password', 'value')\n",
        "              ],\n",
        "              prevent_initial_call=True,)\n",
        "def update_output( Username, Password):\n",
        "    if Username == 'Admin' and Password == 'Admin':\n",
        "        children = [\n",
        "          dcc.Upload(\n",
        "            id='upload-data',\n",
        "            children=html.Div([\n",
        "                'Drag and Drop or ',\n",
        "                html.A('Select Files')\n",
        "            ]),\n",
        "            style={\n",
        "                'width': '100%',\n",
        "                'height': '60px',\n",
        "                'lineHeight': '60px',\n",
        "                'borderWidth': '1px',\n",
        "                'borderStyle': 'dashed',\n",
        "                'borderRadius': '5px',\n",
        "                'textAlign': 'center',\n",
        "                'margin': '10px'\n",
        "            },\n",
        "            # Allow multiple files to be uploaded\n",
        "            multiple=True\n",
        "        )]\n",
        "        return children\n",
        "    else:\n",
        "      return html.H1(\"Username or Password is Invalid\")\n",
        "\n",
        "@app.callback(Output('output-data-upload', 'children'),\n",
        "              Input('upload-data', 'contents'),\n",
        "              State('upload-data', 'filename'),\n",
        "              State('upload-data', 'last_modified'))\n",
        "def update_output( list_of_contents, list_of_names, list_of_dates ):\n",
        "  if list_of_contents is not None:\n",
        "        children = [\n",
        "            backend_main(c, n, d) for c, n, d in\n",
        "            zip(list_of_contents, list_of_names, list_of_dates)]\n",
        "        return children\n",
        "\n",
        "@app.callback(\n",
        "    Output(\"download-image\", \"data\"),\n",
        "    Input(\"btn_image\", \"n_clicks\"),\n",
        "    prevent_initial_call=True,\n",
        ")\n",
        "def func(n_clicks):\n",
        "    return dcc.send_file(\n",
        "        \"Predict.html\"\n",
        "    )\n",
        "\n",
        "app.run_server(mode='external', use_reloader=False)"
      ]
    }
  ],
  "metadata": {
    "colab": {
      "provenance": []
    },
    "kernelspec": {
      "display_name": "Python 3",
      "name": "python3"
    },
    "language_info": {
      "name": "python"
    }
  },
  "nbformat": 4,
  "nbformat_minor": 0
}